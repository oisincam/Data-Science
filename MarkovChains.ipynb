{
  "nbformat": 4,
  "nbformat_minor": 0,
  "metadata": {
    "colab": {
      "provenance": [],
      "authorship_tag": "ABX9TyPmEQ6uHTC6dAzrOVVZZe3n",
      "include_colab_link": true
    },
    "kernelspec": {
      "name": "python3",
      "display_name": "Python 3"
    },
    "language_info": {
      "name": "python"
    }
  },
  "cells": [
    {
      "cell_type": "markdown",
      "metadata": {
        "id": "view-in-github",
        "colab_type": "text"
      },
      "source": [
        "<a href=\"https://colab.research.google.com/github/oisincam/Neural-Networks/blob/main/MarkovChains.ipynb\" target=\"_parent\"><img src=\"https://colab.research.google.com/assets/colab-badge.svg\" alt=\"Open In Colab\"/></a>"
      ]
    },
    {
      "cell_type": "markdown",
      "source": [
        "# Markov Chains"
      ],
      "metadata": {
        "id": "sE0HplhtrRpP"
      }
    },
    {
      "cell_type": "code",
      "source": [
        "import numpy as np\n",
        "import matplotlib.pyplot as plt\n",
        "import scipy.linalg\n"
      ],
      "metadata": {
        "id": "G2l1ykAgrU6j"
      },
      "execution_count": 112,
      "outputs": []
    },
    {
      "cell_type": "code",
      "source": [
        "np.random.rand(1)[0]"
      ],
      "metadata": {
        "colab": {
          "base_uri": "https://localhost:8080/"
        },
        "id": "LxKMHvcZwDV5",
        "outputId": "0bd8b41d-9af9-44c6-9f75-e2c3ee070b8d"
      },
      "execution_count": 46,
      "outputs": [
        {
          "output_type": "execute_result",
          "data": {
            "text/plain": [
              "0.1757824189685665"
            ]
          },
          "metadata": {},
          "execution_count": 46
        }
      ]
    },
    {
      "cell_type": "markdown",
      "source": [
        "# Finding Eigenvectors of transition matrix\n"
      ],
      "metadata": {
        "id": "fUj3w7UQwfMR"
      }
    },
    {
      "cell_type": "markdown",
      "source": [
        "Uniform Initial"
      ],
      "metadata": {
        "id": "v4pDmwD9wo5p"
      }
    },
    {
      "cell_type": "code",
      "source": [
        "x = np.array([0.5,0.5]) # a uniform initial distribution"
      ],
      "metadata": {
        "id": "Z-vfilsxrhrB"
      },
      "execution_count": 120,
      "outputs": []
    },
    {
      "cell_type": "code",
      "source": [
        "P = np.array([[0.2,0.8], [0.3,0.7]])"
      ],
      "metadata": {
        "id": "LRZLgNdQrlYm"
      },
      "execution_count": 136,
      "outputs": []
    },
    {
      "cell_type": "code",
      "source": [
        "# this will convege to the stationary distribution\n",
        "y=x\n",
        "for i in range(0,10):\n",
        "  print(y)\n",
        "  y=np.matmul(y,P)\n",
        "print(y)"
      ],
      "metadata": {
        "colab": {
          "base_uri": "https://localhost:8080/"
        },
        "id": "cvY31besr9eZ",
        "outputId": "c15650d0-150a-432b-8c68-09eb7eb7b8fe"
      },
      "execution_count": 137,
      "outputs": [
        {
          "output_type": "stream",
          "name": "stdout",
          "text": [
            "[0.5 0.5]\n",
            "[0.25 0.75]\n",
            "[0.275 0.725]\n",
            "[0.2725 0.7275]\n",
            "[0.27275 0.72725]\n",
            "[0.272725 0.727275]\n",
            "[0.2727275 0.7272725]\n",
            "[0.27272725 0.72727275]\n",
            "[0.27272727 0.72727272]\n",
            "[0.27272727 0.72727273]\n",
            "[0.27272727 0.72727273]\n"
          ]
        }
      ]
    },
    {
      "cell_type": "markdown",
      "source": [
        "Random Initial"
      ],
      "metadata": {
        "id": "GqJ6Nuyews2F"
      }
    },
    {
      "cell_type": "code",
      "source": [
        "x_0 = np.random.rand(1)[0]\n",
        "x = np.array([x_0,1-x_0])\n",
        "P = np.array([[0.2,0.8], [0.3,0.7]]) # transition matrix\n",
        "y=x\n",
        "for i in range(0,10):\n",
        "  print(y)\n",
        "  y=np.matmul(y,P)\n",
        "print(y)"
      ],
      "metadata": {
        "colab": {
          "base_uri": "https://localhost:8080/"
        },
        "id": "cAKuo9UJwbxu",
        "outputId": "c35a7277-1135-46d3-c5e6-cd76f3cb6371"
      },
      "execution_count": 138,
      "outputs": [
        {
          "output_type": "stream",
          "name": "stdout",
          "text": [
            "[0.52442329 0.47557671]\n",
            "[0.24755767 0.75244233]\n",
            "[0.27524423 0.72475577]\n",
            "[0.27247558 0.72752442]\n",
            "[0.27275244 0.72724756]\n",
            "[0.27272476 0.72727524]\n",
            "[0.27272752 0.72727248]\n",
            "[0.27272725 0.72727275]\n",
            "[0.27272728 0.72727272]\n",
            "[0.27272727 0.72727273]\n",
            "[0.27272727 0.72727273]\n"
          ]
        }
      ]
    },
    {
      "cell_type": "markdown",
      "source": [
        "Sequence Formulation"
      ],
      "metadata": {
        "id": "u9x_zjQIx5sQ"
      }
    },
    {
      "cell_type": "code",
      "source": [
        "# this is equivalent to the following formulation: \n",
        "itrs = 10\n",
        "x = np.zeros(itrs)\n",
        "y = np.zeros(itrs)\n",
        "x[0] = x_0 = np.random.rand(1)[0]\n",
        "y[0] = 1-x[0]\n",
        "for n in range(1,itrs):\n",
        "  x[n] = x[n-1]*0.2 + y[n-1]*0.3\n",
        "  y[n] = x[n-1]*0.8 + y[n-1]*0.7\n",
        "print(\" The stationary Distribution is [%f,%f]\"%(x[-1],y[-1]))"
      ],
      "metadata": {
        "colab": {
          "base_uri": "https://localhost:8080/"
        },
        "id": "B_IyTNehsKs_",
        "outputId": "b40015b2-b7be-4dcf-8ae8-cf35b3b687ab"
      },
      "execution_count": 139,
      "outputs": [
        {
          "output_type": "stream",
          "name": "stdout",
          "text": [
            " The stationary Distribution is [0.272727,0.727273]\n"
          ]
        }
      ]
    },
    {
      "cell_type": "code",
      "source": [
        "steps = np.arange(0,itrs)\n",
        "plt.scatter(steps,x)\n",
        "plt.scatter(steps,y)"
      ],
      "metadata": {
        "colab": {
          "base_uri": "https://localhost:8080/",
          "height": 282
        },
        "id": "AnZ6vlkK3Aiq",
        "outputId": "1ff3e7d5-3b75-4d48-dee5-08a225914caa"
      },
      "execution_count": 142,
      "outputs": [
        {
          "output_type": "execute_result",
          "data": {
            "text/plain": [
              "<matplotlib.collections.PathCollection at 0x7f189ab7ce90>"
            ]
          },
          "metadata": {},
          "execution_count": 142
        },
        {
          "output_type": "display_data",
          "data": {
            "text/plain": [
              "<Figure size 432x288 with 1 Axes>"
            ],
            "image/png": "[encoded data removed]"
          },
          "metadata": {
            "needs_background": "light"
          }
        }
      ]
    },
    {
      "cell_type": "markdown",
      "source": [
        "# Bigger Matrices"
      ],
      "metadata": {
        "id": "imx1BRvHzvay"
      }
    },
    {
      "cell_type": "code",
      "source": [],
      "metadata": {
        "id": "-1QHYLFlyEql"
      },
      "execution_count": 139,
      "outputs": []
    }
  ]
}